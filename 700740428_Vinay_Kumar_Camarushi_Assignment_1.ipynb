{
  "nbformat": 4,
  "nbformat_minor": 0,
  "metadata": {
    "colab": {
      "provenance": []
    },
    "kernelspec": {
      "name": "python3",
      "display_name": "Python 3"
    },
    "language_info": {
      "name": "python"
    }
  },
  "cells": [
    {
      "cell_type": "code",
      "execution_count": null,
      "metadata": {
        "id": "tVbgsbQG9-Yr"
      },
      "outputs": [],
      "source": [
        "'''\n",
        "Machine Learning (CS 5710)\n",
        "Assignment - 1\n",
        "Vinay Kumr Camarushi (700740428)\n",
        "'''"
      ]
    },
    {
      "cell_type": "markdown",
      "source": [
        "Question 1"
      ],
      "metadata": {
        "id": "DucbVCHGnGUN"
      }
    },
    {
      "cell_type": "code",
      "source": [
        "ages = [19, 22, 19, 24, 20, 25, 26, 24, 25, 24] # Taking the input as per given Question"
      ],
      "metadata": {
        "id": "4nCrpnpgbCKT"
      },
      "execution_count": null,
      "outputs": []
    },
    {
      "cell_type": "code",
      "source": [
        "#Sort the list and find the min and max age\n",
        "\n",
        "sorted_ages = sorted(ages) # Sorting the array in ascending order\n",
        "\n",
        "min_value = min(ages) # Finding the minimum value of the ages list\n",
        "max_value = max(ages)  # Finding the minimum value of the ages list\n",
        "\n",
        "print(\"Minimun Value of the ages is {}\".format(min_value)) # printing the minimum value of the ages list\n",
        "print(\"Maximum Value of the ages is {}\".format(max_value)) # printing the maximum vlaue of the ages list\n",
        "\n",
        "print(\"Sorted list in Ascending order is {}\".format(sorted_ages)) # printing the sorted list of ages in ascending order\n",
        "print(\"Sorted list in Descending order is {}\".format(sorted_ages[::-1])) # printing the sorted list in descending order"
      ],
      "metadata": {
        "colab": {
          "base_uri": "https://localhost:8080/"
        },
        "id": "A2qDbPSxblGp",
        "outputId": "df8fe5ce-a118-47e1-f0de-23013c99f59e"
      },
      "execution_count": null,
      "outputs": [
        {
          "output_type": "stream",
          "name": "stdout",
          "text": [
            "Minimun Value of the ages is 19\n",
            "Maximum Value of the ages is 26\n",
            "Sorted list in Ascending order is [19, 19, 20, 22, 24, 24, 24, 25, 25, 26]\n",
            "Sorted list in Descending order is [26, 25, 25, 24, 24, 24, 22, 20, 19, 19]\n"
          ]
        }
      ]
    },
    {
      "cell_type": "code",
      "source": [
        "#Add the min age and the max age again to the list\n",
        "\n",
        "sorted_ages.append(min_value) # appending the minimum value to the ages list\n",
        "sorted_ages.append(max_value) # appending the maximum value to the ages list\n",
        "\n",
        "print(sorted_ages) # printing the ages list after adding the minimum and maximum values"
      ],
      "metadata": {
        "colab": {
          "base_uri": "https://localhost:8080/"
        },
        "id": "OWuIbJUWiFE6",
        "outputId": "b06a0434-f382-44c5-f477-201c64e3a218"
      },
      "execution_count": null,
      "outputs": [
        {
          "output_type": "stream",
          "name": "stdout",
          "text": [
            "[19, 19, 20, 22, 24, 24, 24, 25, 25, 26, 19, 26]\n"
          ]
        }
      ]
    },
    {
      "cell_type": "code",
      "source": [
        " #Find the median age (one middle item or two middle items divided by two)\n",
        "\n",
        "def median(input_list): # defining a function to find the median of the given list\n",
        "    sorted_list = sorted(input_list) # sorting the list in ascending order\n",
        "    lenght_list = len(input_list) # getting the length of the ages list\n",
        "    index = (lenght_list - 1) // 2 # Getting the middle index of the ages list\n",
        "\n",
        "    # if there is only one element in the middle of the list then we will return that value or else we will take the average of the elements that are in the middle part of the array\n",
        "    \n",
        "    # checking if there are 2 elements or 1 element in the midle of the ages list\n",
        "    if (lenght_list % 2):\n",
        "        return sorted_list[index]  # returning the middle element form the list \n",
        "    # if there are 2 elements in the middle then we will average the values and return it\n",
        "    else:\n",
        "        \n",
        "        return (sorted_list[index] + sorted_list[index + 1])/2.0 # returning the average of the middle elements  \n",
        "\n",
        "median_ages = median(ages)  # Getting the median value to the variable median_ages\n",
        "\n",
        "print(\"Median of the given list of ages is {}\".format(median_ages)) # printing the median of the ages list\n"
      ],
      "metadata": {
        "id": "qzToRnqPbVBp",
        "colab": {
          "base_uri": "https://localhost:8080/"
        },
        "outputId": "7981a869-b2be-40bd-f9cf-52a46e59bab0"
      },
      "execution_count": null,
      "outputs": [
        {
          "output_type": "stream",
          "name": "stdout",
          "text": [
            "Median of the given list of ages is 24.0\n"
          ]
        }
      ]
    },
    {
      "cell_type": "code",
      "source": [
        "#Find the average age (sum of all items divided by their number)\n",
        "\n",
        "\n",
        "average_ages = sum(ages)/len(ages) # dividing the sum of ages with length of ages to get the average of the ages \n",
        "\n",
        "\n",
        "print(\"Average of the given list of ages is {}\".format(average_ages)) # printing the average of ages"
      ],
      "metadata": {
        "id": "mCxP9a3pbYg6",
        "colab": {
          "base_uri": "https://localhost:8080/"
        },
        "outputId": "5ef94b80-2a07-42fc-aada-3d6fbcdb015d"
      },
      "execution_count": null,
      "outputs": [
        {
          "output_type": "stream",
          "name": "stdout",
          "text": [
            "Average of the given list of ages is 22.8\n"
          ]
        }
      ]
    },
    {
      "cell_type": "code",
      "source": [
        "#Find the range of the ages (max minus min)\n",
        "\n",
        "range_ages = max_value - min_value # subtracting minimum value from the maximum value to get the range of the list \n",
        "\n",
        "print(\"Range of the given list of ages is {}\".format(range_ages)) #printing the age of the list"
      ],
      "metadata": {
        "id": "DJGCjWOLbZxS",
        "colab": {
          "base_uri": "https://localhost:8080/"
        },
        "outputId": "3f413d56-bb8b-4fed-fb18-7f83a95b1db4"
      },
      "execution_count": null,
      "outputs": [
        {
          "output_type": "stream",
          "name": "stdout",
          "text": [
            "Range of the given list of ages is 7\n"
          ]
        }
      ]
    },
    {
      "cell_type": "markdown",
      "source": [
        "Question 2\n"
      ],
      "metadata": {
        "id": "XN-HfC_flepD"
      }
    },
    {
      "cell_type": "code",
      "source": [
        "#Create an empty dictionary called dog\n",
        "\n",
        "dog = {} # creating an empty dictionary"
      ],
      "metadata": {
        "id": "SMO0d7EWljJ6"
      },
      "execution_count": null,
      "outputs": []
    },
    {
      "cell_type": "code",
      "source": [
        "#Add name, color, breed, legs, age to the dog dictionary\n",
        "\n",
        "dog['name'] = 'Simba' # Adding name attribute to the dictionary and assigning value Simba\n",
        "dog['color'] = 'Golden Yellow' #Adding color attribute to the dictionary and assigning value Golden yellow to it\n",
        "dog['breed'] = 'Golden Retreiver' # Adding breed attribute to the dictionary and assigning Golden Retreiver\n",
        "dog['legs'] = 4 # Adding legs attribute to the dictionary and assigning value 4 to it\n",
        "dog['age'] = 10 # Adding age attribute to the Dictionary and  assigning value 10 to it\n",
        "\n",
        "print(dog) # printing dog attribute"
      ],
      "metadata": {
        "colab": {
          "base_uri": "https://localhost:8080/"
        },
        "id": "uYGzv_M8lrdO",
        "outputId": "212a5499-97b4-4230-b1ca-0589a86d9ab0"
      },
      "execution_count": null,
      "outputs": [
        {
          "output_type": "stream",
          "name": "stdout",
          "text": [
            "{'name': 'Simba', 'color': 'Golden Yellow', 'breed': 'Golden Retreiver', 'legs': 4, 'age': 10}\n"
          ]
        }
      ]
    },
    {
      "cell_type": "code",
      "source": [
        "'''Create a student dictionary and add first_name, last_name, gender, age, marital status, \n",
        "skills, country, city and address as keys for the dictionary'''\n",
        "\n",
        "# Creating and Initializing student Dictionary with given attributes\n",
        "student = {\"first_name\": \"Vinay\",'last_name' : \"Kumar\",\"gender\":\"Male\",\"age\" : \"23\",\"marital status\" : \"Single\",\"skills\" : [\"Python, Power BI, SQL, Data Analytics, Microsoft Azure\"]\n",
        ",\"country\" :\"United States\",\"city\" : \"Overland Park\",\"address\" : \"6635 W 141st St APt 3607\"}\n",
        "\n",
        "print(student) # printing student dictionary"
      ],
      "metadata": {
        "colab": {
          "base_uri": "https://localhost:8080/"
        },
        "id": "Xeg2bL9zltuA",
        "outputId": "05565f05-5c93-417d-9759-463a9b7208a1"
      },
      "execution_count": null,
      "outputs": [
        {
          "output_type": "execute_result",
          "data": {
            "text/plain": [
              "{'first_name': 'Vinay',\n",
              " 'last_name': 'Kumar',\n",
              " 'gender': 'Male',\n",
              " 'age': '23',\n",
              " 'marital status': 'Single',\n",
              " 'skills': ['Python, Power BI, SQL, Data Analytics, Microsoft Azure'],\n",
              " 'country': 'United States',\n",
              " 'city': 'Overland Park',\n",
              " 'address': '6635 W 141st St APt 3607'}"
            ]
          },
          "metadata": {},
          "execution_count": 25
        }
      ]
    },
    {
      "cell_type": "code",
      "source": [
        "#Get the length of the student dictionary\n",
        "\n",
        "len_dictionary = len(student) # getting the length of the student dictionary and storing it in the variable len_dictionary\n",
        "\n",
        "print(\"The length of the Student dictionary is {}\".format(len_dictionary)) # printing the lenght of the dictionary"
      ],
      "metadata": {
        "colab": {
          "base_uri": "https://localhost:8080/"
        },
        "id": "3wOhw4DRlyWI",
        "outputId": "07e62aeb-7e74-4979-9fb9-3739691853f4"
      },
      "execution_count": null,
      "outputs": [
        {
          "output_type": "stream",
          "name": "stdout",
          "text": [
            "The length of the Student dictionary is 9\n"
          ]
        }
      ]
    },
    {
      "cell_type": "code",
      "source": [
        "#Get the value of skills and check the data type, it should be a list\n",
        "\n",
        "values_of_Student = list(student.values()) # getting the values of the dictionary into the list values_of_Student\n",
        "\n",
        "print(\"The datatype of the values of the Student dictionary is a {}\".format(type(values_of_Student))) # printing the type of the values list"
      ],
      "metadata": {
        "colab": {
          "base_uri": "https://localhost:8080/"
        },
        "id": "NH8h6GyQl17g",
        "outputId": "23c5b150-7780-47f4-eaba-173333ea2126"
      },
      "execution_count": null,
      "outputs": [
        {
          "output_type": "stream",
          "name": "stdout",
          "text": [
            "The datatype of the values of the Student dictionary is a <class 'list'>\n"
          ]
        }
      ]
    },
    {
      "cell_type": "code",
      "source": [
        "#Modify the skills values by adding one or two skills\n",
        "\n",
        "student['skills'].extend(['Java','C Programming']) # Adding more skills to the skills key in the student dictionary\n",
        "\n",
        "print(student) # printing the student dictionary\n"
      ],
      "metadata": {
        "colab": {
          "base_uri": "https://localhost:8080/"
        },
        "id": "wi_J7xWQl5gA",
        "outputId": "814c685e-745e-4f26-c864-817ee639b7bc"
      },
      "execution_count": null,
      "outputs": [
        {
          "output_type": "execute_result",
          "data": {
            "text/plain": [
              "{'first_name': 'Vinay',\n",
              " 'last_name': 'Kumar',\n",
              " 'gender': 'Male',\n",
              " 'age': '23',\n",
              " 'marital status': 'Single',\n",
              " 'skills': ['Python, Power BI, SQL, Data Analytics, Microsoft Azure',\n",
              "  'Java',\n",
              "  'C Programming'],\n",
              " 'country': 'United States',\n",
              " 'city': 'Overland Park',\n",
              " 'address': '6635 W 141st St APt 3607'}"
            ]
          },
          "metadata": {},
          "execution_count": 28
        }
      ]
    },
    {
      "cell_type": "code",
      "source": [
        "#Get the dictionary keys as a list\n",
        "\n",
        "Dict_keys = list(student.keys()) # storing the dictionary keys in the Dict_keys variables\n",
        "\n",
        "print(Dict_keys) # printing the Dict_keys variable which contains the keys from the student dictionary"
      ],
      "metadata": {
        "colab": {
          "base_uri": "https://localhost:8080/"
        },
        "id": "mHI8ct9zl8KQ",
        "outputId": "525096a4-db09-4c07-807d-969ed7ba63ee"
      },
      "execution_count": null,
      "outputs": [
        {
          "output_type": "execute_result",
          "data": {
            "text/plain": [
              "['first_name',\n",
              " 'last_name',\n",
              " 'gender',\n",
              " 'age',\n",
              " 'marital status',\n",
              " 'skills',\n",
              " 'country',\n",
              " 'city',\n",
              " 'address']"
            ]
          },
          "metadata": {},
          "execution_count": 29
        }
      ]
    },
    {
      "cell_type": "code",
      "source": [
        "#Get the dictionary values as a list\n",
        "\n",
        "Dict_values = list(student.values()) # getting the values of the keys from the dictionary and storing it in the variable Dict_values\n",
        "\n",
        "print(Dict_values) # printing the Dict_values which contains the values of the keys from the student Dictionary\n"
      ],
      "metadata": {
        "colab": {
          "base_uri": "https://localhost:8080/"
        },
        "id": "jmb3usH6mAo4",
        "outputId": "9e3512e4-b933-469a-d7ce-9cd698216d6a"
      },
      "execution_count": null,
      "outputs": [
        {
          "output_type": "execute_result",
          "data": {
            "text/plain": [
              "['Vinay',\n",
              " 'Kumar',\n",
              " 'Male',\n",
              " '23',\n",
              " 'Single',\n",
              " ['Python, Power BI, SQL, Data Analytics, Microsoft Azure',\n",
              "  'Java',\n",
              "  'C Programming'],\n",
              " 'United States',\n",
              " 'Overland Park',\n",
              " '6635 W 141st St APt 3607']"
            ]
          },
          "metadata": {},
          "execution_count": 30
        }
      ]
    },
    {
      "cell_type": "markdown",
      "source": [
        "Question 3"
      ],
      "metadata": {
        "id": "4PZn5iw1QPE9"
      }
    },
    {
      "cell_type": "code",
      "source": [
        "#Create a tuple containing names of your sisters and your brothers (imaginary siblings are fine)\n",
        "\n",
        "brothers = (\"Vara Prasad\",\"Bhanu Chandra\",\"Vinod Kumar\") # creating the brothers tuple with some sample data\n",
        "sisters = (\"Bhavani\", \"Sravani\",\"Vijaya Sri\") # creating the sisters tuple with some sample data\n",
        "\n",
        "print(\"The tuple of brothers is : {}\".format(brothers)) # printing the brothers tuple \n",
        "print(\"The tuple of sisters is : {}\".format(sisters)) # printing the sisters tuple"
      ],
      "metadata": {
        "colab": {
          "base_uri": "https://localhost:8080/"
        },
        "id": "EHV4896tQRRE",
        "outputId": "7a3f8625-8c10-4806-e87a-782b7e1925a1"
      },
      "execution_count": null,
      "outputs": [
        {
          "output_type": "stream",
          "name": "stdout",
          "text": [
            "The tuple of brothers is : ('Vara Prasad', 'Bhanu Chandra', 'Vinod Kumar')\n",
            "The tuple of sisters is : ('Bhavani', 'Sravani', 'Vijaya Sri')\n"
          ]
        }
      ]
    },
    {
      "cell_type": "code",
      "source": [
        "#Join brothers and sisters tuples and assign it to siblings\n",
        "\n",
        "siblings = brothers + sisters # concatenating the brothers and sisters tuples into siblings\n",
        "\n",
        "print(\"The tuple of siblings is : {}\".format(siblings)) # printing the siblings tuple"
      ],
      "metadata": {
        "colab": {
          "base_uri": "https://localhost:8080/"
        },
        "id": "AEXctxfbRDtm",
        "outputId": "9c093084-b173-44ba-81ee-ddaebe1f671f"
      },
      "execution_count": null,
      "outputs": [
        {
          "output_type": "stream",
          "name": "stdout",
          "text": [
            "The tuple of siblings is : ('Vara Prasad', 'Bhanu Chandra', 'Vinod Kumar', 'Bhavani', 'Sravani', 'Vijaya Sri')\n"
          ]
        }
      ]
    },
    {
      "cell_type": "code",
      "source": [
        "# How many siblings do you have?\n",
        "\n",
        "len_siblings = len(siblings) # getting the length of the siblings and storing the value in the variable len_siblings\n",
        "\n",
        "print(\"The length of siblings is : {}\".format(len_siblings)) # printing the length of the siblings tuple"
      ],
      "metadata": {
        "colab": {
          "base_uri": "https://localhost:8080/"
        },
        "id": "UlGWzrMVR7K1",
        "outputId": "34240488-e41f-4eba-c588-a5fe72ec2a51"
      },
      "execution_count": null,
      "outputs": [
        {
          "output_type": "stream",
          "name": "stdout",
          "text": [
            "The length of siblings is : 6\n"
          ]
        }
      ]
    },
    {
      "cell_type": "code",
      "source": [
        "#Modify the siblings tuple and add the name of your father and mother and assign it to family_members\n",
        "\n",
        "family_members = siblings + ('Srinivasa Rao','Lakshmi') # Adding sample parents data to the siblings tuple and storing in the tuple family_members\n",
        "\n",
        "print(\"The tuple of family members is : {}\".format(family_members)) # printing the family_members tuple"
      ],
      "metadata": {
        "colab": {
          "base_uri": "https://localhost:8080/"
        },
        "id": "Y6JxTG3WSUuF",
        "outputId": "4d1f0993-918a-401b-960e-dd4f12e33d7d"
      },
      "execution_count": null,
      "outputs": [
        {
          "output_type": "stream",
          "name": "stdout",
          "text": [
            "The tuple of family members is : ('Vara Prasad', 'Bhanu Chandra', 'Vinod Kumar', 'Bhavani', 'Sravani', 'Vijaya Sri', 'Srinivasa Rao', 'Lakshmi')\n"
          ]
        }
      ]
    },
    {
      "cell_type": "markdown",
      "source": [
        "Question 4"
      ],
      "metadata": {
        "id": "uPJ0uS8WZ36H"
      }
    },
    {
      "cell_type": "code",
      "source": [
        "it_companies = {'Facebook', 'Google', 'Microsoft', 'Apple', 'IBM', 'Oracle', 'Amazon'} # initilizing the it_companies set with some companies\n",
        "A = {19, 22, 24, 20, 25, 26} # initilizing the A set with some values\n",
        "B = {19, 22, 20, 25, 26, 24, 28, 27} #initilizing the B set with some values\n",
        "age = [22, 19, 24, 25, 26, 24, 25, 24] # initilizing the age list with some values"
      ],
      "metadata": {
        "id": "pDc_13cuZ7ae"
      },
      "execution_count": null,
      "outputs": []
    },
    {
      "cell_type": "code",
      "source": [
        "#Find the length of the set it_companies\n",
        "\n",
        "len_it_companies = len(it_companies) # getting the length of the it_companies set\n",
        "\n",
        "print(\"The length of the tuple 'it_companies' is : {}\".format(len_it_companies)) # printing the length of the it_companies set"
      ],
      "metadata": {
        "colab": {
          "base_uri": "https://localhost:8080/"
        },
        "id": "KKciZ56CaIwT",
        "outputId": "6429c46b-70b2-4484-c178-e49eb24f0e76"
      },
      "execution_count": null,
      "outputs": [
        {
          "output_type": "stream",
          "name": "stdout",
          "text": [
            "The length of the tuple 'it_companies' is : 7\n"
          ]
        }
      ]
    },
    {
      "cell_type": "code",
      "source": [
        "#Add 'Twitter' to it_companies\n",
        "\n",
        "it_companies.add('Twitter') # adding 'Twitter' to the it_companies Set \n",
        "\n",
        "print('Tuple after appending Twitter is: {}'.format(it_companies)) # printing the it_companies set aftre adding Twitter"
      ],
      "metadata": {
        "colab": {
          "base_uri": "https://localhost:8080/"
        },
        "id": "oA_uJJkfdHYu",
        "outputId": "84f286d1-d308-419a-d54e-f285895978db"
      },
      "execution_count": null,
      "outputs": [
        {
          "output_type": "stream",
          "name": "stdout",
          "text": [
            "Tuple after appending Twitter is: {'Twitter', 'Oracle', 'Microsoft', 'Apple', 'IBM', 'Amazon', 'Facebook', 'Google'}\n"
          ]
        }
      ]
    },
    {
      "cell_type": "code",
      "source": [
        "# Insert multiple IT companies at once to the set it_companies\n",
        "\n",
        "it_companies.update(['Accenture','Cognizant']) # updating the it_companies set with the values Accenture and Cognizant\n",
        "\n",
        "print('Tuple after appending multiple it companies is: {}'.format(it_companies)) # printing the set after the addition of new values"
      ],
      "metadata": {
        "colab": {
          "base_uri": "https://localhost:8080/"
        },
        "id": "peBqt5Mdezox",
        "outputId": "b1fdee15-8b6a-43ee-9ecb-482dafcc65e8"
      },
      "execution_count": null,
      "outputs": [
        {
          "output_type": "stream",
          "name": "stdout",
          "text": [
            "Tuple after appending multiple it companies is: {'Cognizant', 'Twitter', 'Oracle', 'Microsoft', 'Accenture', 'Apple', 'IBM', 'Amazon', 'Facebook', 'Google'}\n"
          ]
        }
      ]
    },
    {
      "cell_type": "code",
      "source": [
        "# Remove one of the companies from the set it_companies\n",
        "\n",
        "it_companies.remove(\"Accenture\") # Removing the company 'Accenture' from the set it_companies \n",
        "\n",
        "print('Tuple after removing one element is: {}'.format(it_companies)) # printing the it_companies set after removing Accenture"
      ],
      "metadata": {
        "colab": {
          "base_uri": "https://localhost:8080/"
        },
        "id": "gJAtfrGKfHia",
        "outputId": "f428bd78-691d-4fa5-b107-fa62ea55c9cb"
      },
      "execution_count": null,
      "outputs": [
        {
          "output_type": "stream",
          "name": "stdout",
          "text": [
            "Tuple after removing Accenture is: {'Cognizant', 'Twitter', 'Oracle', 'Microsoft', 'Apple', 'IBM', 'Amazon', 'Facebook', 'Google'}\n"
          ]
        }
      ]
    },
    {
      "cell_type": "markdown",
      "source": [
        " What is the difference between remove and discard ?\n",
        "\n",
        " Answer : Both of the methods do the same work (i.e.), removes the element from the set only if the element is present in the set. the only difference is remove() method throws an error/exception if the element is not present in the set which is supposed to be removed and the discard method does not throw the exception."
      ],
      "metadata": {
        "id": "eaDb9GzNfvi_"
      }
    },
    {
      "cell_type": "code",
      "source": [
        "#Join A and B\n",
        "\n",
        "C = A | B # Joining the 2 sets A & B and storing the value in the set C\n",
        "\n",
        "print(\"The union of the sets A & B is : {}\".format(C)) # Printing the Set C which is the union of the sets A & B "
      ],
      "metadata": {
        "id": "GrHUbH2mfy06",
        "colab": {
          "base_uri": "https://localhost:8080/"
        },
        "outputId": "4c40bb78-a296-4061-ad08-d7ac27d5fe11"
      },
      "execution_count": null,
      "outputs": [
        {
          "output_type": "stream",
          "name": "stdout",
          "text": [
            "The union of the sets A & B is : {19, 20, 22, 24, 25, 26, 27, 28}\n"
          ]
        }
      ]
    },
    {
      "cell_type": "code",
      "source": [
        "#Find A intersection B\n",
        "\n",
        "intersec_A_B = A.intersection(B) # finding the intersection of the 2 sets A & B and storing the value in the intersec_A_B variable\n",
        "\n",
        "print(\"The intersection of the sets A & B is : {}\".format(intersec_A_B)) # printing the variable intersec_A_B which is the intersection of the sets A & B"
      ],
      "metadata": {
        "colab": {
          "base_uri": "https://localhost:8080/"
        },
        "id": "qcfl1JtjpI7Q",
        "outputId": "d22d1637-1a1b-413d-c9fc-03fc7c1466ef"
      },
      "execution_count": null,
      "outputs": [
        {
          "output_type": "stream",
          "name": "stdout",
          "text": [
            "The intersection of the sets A & B is : {19, 20, 22, 24, 25, 26}\n"
          ]
        }
      ]
    },
    {
      "cell_type": "code",
      "source": [
        "#Is A subset of B\n",
        "\n",
        "A_is_subset_of_B = A.issubset(B) # checking if A is Subset of the set B and storing the boolean value in the variable 'A_is_subset_of_B'\n",
        "\n",
        "print(\"Is A subset of B ? {}\".format(A_is_subset_of_B)) # printing the boolean value"
      ],
      "metadata": {
        "colab": {
          "base_uri": "https://localhost:8080/"
        },
        "id": "h4KD4liApmzU",
        "outputId": "78fe50b1-bc47-4667-9f44-6b68e976d0fb"
      },
      "execution_count": null,
      "outputs": [
        {
          "output_type": "stream",
          "name": "stdout",
          "text": [
            "Is A subset of B ? True\n"
          ]
        }
      ]
    },
    {
      "cell_type": "code",
      "source": [
        "#Are A and B disjoint sets\n",
        "\n",
        "#Since the sets A & B are having common elements both of them are not disjoint sets \n",
        " \n",
        "intersec_A_B = A.intersection(B) # checking if the sets A and B are having any common elements or not\n",
        "\n",
        "# writing a logic such that if there are no common elements in both the sets disjoint sets will be printed or else the opposite will be printed\n",
        "if(intersec_A_B == None):\n",
        "  print(\"The sets A & B are Disjoint sets\") # printing disjoint sets\n",
        "else:\n",
        "  print(\"The sets A & B are not Disjoint sets\") # printing non disjoint sets"
      ],
      "metadata": {
        "colab": {
          "base_uri": "https://localhost:8080/"
        },
        "id": "dOXWMAY0qb4O",
        "outputId": "45c0bb49-0436-45cf-f55c-66fcff56dd8e"
      },
      "execution_count": null,
      "outputs": [
        {
          "output_type": "stream",
          "name": "stdout",
          "text": [
            "The sets A & B are not Disjoint sets\n"
          ]
        }
      ]
    },
    {
      "cell_type": "code",
      "source": [
        "#Join A with B and B with A\n",
        "\n",
        "A.update(B) # Joining set A with set B\n",
        "\n",
        "B.update(A) # Joining set B with set A\n",
        "\n",
        "print(\"The Set A after getting joined with B is {}\".format(A)) # printing the Set A after getting joined with set B\n",
        "\n",
        "print(\"The Set B after getting joined with A is {}\".format(B)) # printing the Set B after getting joined with set A"
      ],
      "metadata": {
        "colab": {
          "base_uri": "https://localhost:8080/"
        },
        "id": "u7DZf-4O5oWJ",
        "outputId": "82ad5ed0-7397-4a0b-9e3e-1648a82c05e8"
      },
      "execution_count": null,
      "outputs": [
        {
          "output_type": "stream",
          "name": "stdout",
          "text": [
            "The Set A after getting joined with B is {19, 20, 22, 24, 25, 26, 27, 28}\n",
            "The Set B after getting joined with A is {19, 20, 22, 24, 25, 26, 27, 28}\n"
          ]
        }
      ]
    },
    {
      "cell_type": "code",
      "source": [
        "# What is the symmetric difference between A and B\n",
        "\n",
        "Sym_diff =  A.symmetric_difference(B) # checking the symmetric differences wih the symmetric_difference() method \n",
        "\n",
        "print(\"The Symmetric Difference between A & B is : {}\".format(Sym_diff)) # printing the symmetric differences between the 2 sets A & B"
      ],
      "metadata": {
        "colab": {
          "base_uri": "https://localhost:8080/"
        },
        "id": "XZmNDdbN6SrO",
        "outputId": "5831b1d3-1d94-4cf8-dea8-1cc9f2beaae7"
      },
      "execution_count": null,
      "outputs": [
        {
          "output_type": "stream",
          "name": "stdout",
          "text": [
            "The Symmetric Difference between A & B is : {27, 28}\n"
          ]
        }
      ]
    },
    {
      "cell_type": "code",
      "source": [
        "# Delete the sets completely\n",
        "\n",
        "del A  #deleting set A\n",
        "del B # deleting set B\n",
        "\n",
        "print(A) # printing set A to see if it is deleted or not\n",
        "\n",
        "print(B) # printing Set B to see if it is deleted or not"
      ],
      "metadata": {
        "colab": {
          "base_uri": "https://localhost:8080/",
          "height": 235
        },
        "id": "PS0QvC-17EOc",
        "outputId": "e1c1d9fc-a148-4a62-d20d-aa3b85ae4119"
      },
      "execution_count": null,
      "outputs": [
        {
          "output_type": "error",
          "ename": "NameError",
          "evalue": "ignored",
          "traceback": [
            "\u001b[0;31m---------------------------------------------------------------------------\u001b[0m",
            "\u001b[0;31mNameError\u001b[0m                                 Traceback (most recent call last)",
            "\u001b[0;32m<ipython-input-8-c0a11f621d86>\u001b[0m in \u001b[0;36m<module>\u001b[0;34m\u001b[0m\n\u001b[1;32m      1\u001b[0m \u001b[0;31m# Delete the sets completely\u001b[0m\u001b[0;34m\u001b[0m\u001b[0;34m\u001b[0m\u001b[0;34m\u001b[0m\u001b[0m\n\u001b[1;32m      2\u001b[0m \u001b[0;34m\u001b[0m\u001b[0m\n\u001b[0;32m----> 3\u001b[0;31m \u001b[0;32mdel\u001b[0m \u001b[0mA\u001b[0m\u001b[0;34m\u001b[0m\u001b[0;34m\u001b[0m\u001b[0m\n\u001b[0m\u001b[1;32m      4\u001b[0m \u001b[0;32mdel\u001b[0m \u001b[0mB\u001b[0m\u001b[0;34m\u001b[0m\u001b[0;34m\u001b[0m\u001b[0m\n\u001b[1;32m      5\u001b[0m \u001b[0;34m\u001b[0m\u001b[0m\n",
            "\u001b[0;31mNameError\u001b[0m: name 'A' is not defined"
          ]
        }
      ]
    },
    {
      "cell_type": "code",
      "source": [
        "# Convert the ages to a set and compare the length of the list and the set\n",
        "len_list_age = len(age)\n",
        "\n",
        "len_set_age = len(set(age))\n",
        "\n",
        "if(len_list_age > len_set_age):\n",
        "  print(\"List has more length when compared to the set\")\n",
        "elif(len_list_age < len_set_age):\n",
        "  print(\"set has more length when compared to the list\")\n",
        "else:\n",
        "  print(\"Both list and set are having same length\")"
      ],
      "metadata": {
        "colab": {
          "base_uri": "https://localhost:8080/"
        },
        "id": "2aJm2MwX8MtF",
        "outputId": "75160b17-cd42-45c8-d2cd-efee2fafb3cd"
      },
      "execution_count": null,
      "outputs": [
        {
          "output_type": "stream",
          "name": "stdout",
          "text": [
            "List has more length when compared to the set\n"
          ]
        }
      ]
    },
    {
      "cell_type": "markdown",
      "source": [
        "Question 5 "
      ],
      "metadata": {
        "id": "NNh9GhnN83fx"
      }
    },
    {
      "cell_type": "code",
      "source": [
        "radius = 30 # initializing the radius variable with value 30 as per given input\n"
      ],
      "metadata": {
        "id": "ej6M5FEn85m9"
      },
      "execution_count": null,
      "outputs": []
    },
    {
      "cell_type": "code",
      "source": [
        "# Calculate the area of a circle and assign the value to a variable name of _area_of_circle_\n",
        "\n",
        "area_of_circle = 3.14 * radius ** 2 # calculating the area of the circle from the formula pi * r * r and storing it in the variable 'area_of_circle'\n",
        "\n",
        "print(\"The area of the circle with radius {} is {}\".format(radius,area_of_circle)) # printing the radius and area of the circle "
      ],
      "metadata": {
        "colab": {
          "base_uri": "https://localhost:8080/"
        },
        "id": "EbRx8DUy9BA1",
        "outputId": "bea376f2-b646-4003-f4f3-85cfb73a0319"
      },
      "execution_count": null,
      "outputs": [
        {
          "output_type": "stream",
          "name": "stdout",
          "text": [
            "The area of the circle with radius 30 is 2826.0\n"
          ]
        }
      ]
    },
    {
      "cell_type": "code",
      "source": [
        "# Calculate the circumference of a circle and assign the value to a variable name of _circum_of_circle_\n",
        "\n",
        "circum_of_circle = 2 * 3.14 * radius # calculating the perimeter of the circle and storing the value in the variable 'circum_of_circle'\n",
        "\n",
        "print(\"The circumference of the circle with radius {} is {}\".format(radius,circum_of_circle)) # printing the radius and circumferenece of the circle "
      ],
      "metadata": {
        "colab": {
          "base_uri": "https://localhost:8080/"
        },
        "id": "9yBzJJL_9T7s",
        "outputId": "5f15700f-a9c8-4801-8a81-096ca4853ee5"
      },
      "execution_count": null,
      "outputs": [
        {
          "output_type": "stream",
          "name": "stdout",
          "text": [
            "The circumference of the circle with radius 30 is 188.4\n"
          ]
        }
      ]
    },
    {
      "cell_type": "code",
      "source": [
        "# Take radius as user input and calculate the area.\n",
        "user_input_radius = float(input(\"Enter the radius of the circle : \")) # taking radius as the user input as a floating number\n",
        "\n",
        "user_area_of_circle = 3.14 * user_input_radius ** 2 # calculating the area of the circle from the formula pi * r * r and storing it in the variable 'area_of_circle' \n",
        "\n",
        "print(\"The area of the circle with user input radius {} is {}\".format(user_input_radius,user_area_of_circle)) # printing the radius and area of the circle "
      ],
      "metadata": {
        "colab": {
          "base_uri": "https://localhost:8080/"
        },
        "id": "Svd-D6g_9lQ1",
        "outputId": "525a3303-c6ac-4a9e-df26-bc348244df32"
      },
      "execution_count": null,
      "outputs": [
        {
          "output_type": "stream",
          "name": "stdout",
          "text": [
            "Enter the radius of the circle : 30\n",
            "The area of the circle with user input radius 30.0 is 2826.0\n"
          ]
        }
      ]
    },
    {
      "cell_type": "markdown",
      "source": [
        "Question 6"
      ],
      "metadata": {
        "id": "gjg0YW72-C_v"
      }
    },
    {
      "cell_type": "code",
      "source": [
        "# How many unique words have been used in the sentence? Use the split methods and set to get the unique words.\n",
        "\n",
        "input_string = 'I am a teacher and I love to inspire and teach people' # initializing the string with given value \n",
        "\n",
        "words = input_string.split(' ') # splitting the given string at the space\n",
        "\n",
        "unique_words = set(words) # converting th splitted list to the set to get the unique values of the list \n",
        "\n",
        "print(\"The unique words in the given input string is : {}\".format(len(unique_words))) # printing the unique values of the string 'input_string'"
      ],
      "metadata": {
        "colab": {
          "base_uri": "https://localhost:8080/"
        },
        "id": "l9BkYYmI-EGU",
        "outputId": "f57d549f-26d1-4fa0-df7f-34330cea1d6e"
      },
      "execution_count": null,
      "outputs": [
        {
          "output_type": "stream",
          "name": "stdout",
          "text": [
            "The unique words in the given input string is : 10\n"
          ]
        }
      ]
    },
    {
      "cell_type": "markdown",
      "source": [
        "Question 7\n",
        "\n",
        "Use a tab escape sequence to get the following lines.\n",
        "Name Age Country City \n",
        "Asabeneh 250 Finland Helsinki\n"
      ],
      "metadata": {
        "id": "aeBLtEBe-0IY"
      }
    },
    {
      "cell_type": "code",
      "source": [
        "print(\"Name\\t\\t\\t\\tAge\\t\\t\\t\\tCountry\\t\\t\\t\\tCity\\nAsabeneh\\t\\t\\t250\\t\\t\\t\\tFinland\\t\\t\\t\\tHelsinki\")"
      ],
      "metadata": {
        "colab": {
          "base_uri": "https://localhost:8080/"
        },
        "id": "uJ3bLuOk-zI3",
        "outputId": "33f40863-7e6f-4618-c4ab-3000b9ee0e61"
      },
      "execution_count": null,
      "outputs": [
        {
          "output_type": "stream",
          "name": "stdout",
          "text": [
            "Name\t\t\t\tAge\t\t\t\tCountry\t\t\t\tCity\n",
            "Asabeneh\t\t\t250\t\t\t\tFinland\t\t\t\tHelsinki\n"
          ]
        }
      ]
    },
    {
      "cell_type": "markdown",
      "source": [
        "Question 8\n"
      ],
      "metadata": {
        "id": "hXxSq3FI_9H2"
      }
    },
    {
      "cell_type": "code",
      "source": [
        "radius = 10 # initialising the radius of the circle with value 10 \n",
        "area = 3.14 * radius ** 2 # Calculating the area of the circle as per given formula"
      ],
      "metadata": {
        "id": "TX0M_TkaAbyh"
      },
      "execution_count": null,
      "outputs": []
    },
    {
      "cell_type": "code",
      "source": [
        "# “The area of a circle with radius 10 is 314 meters square.”\n",
        "\n",
        "print(\"The area of a circle with radius {} is {} meters square.\".format(radius,int(area))) # printing the area and radius of the circle as per given format"
      ],
      "metadata": {
        "colab": {
          "base_uri": "https://localhost:8080/"
        },
        "id": "l_diRcVzAfNE",
        "outputId": "b6745897-43c4-4c1e-8ba0-6ec2a005fb92"
      },
      "execution_count": null,
      "outputs": [
        {
          "output_type": "stream",
          "name": "stdout",
          "text": [
            "The area of a circle with radius 10 is 314 meters square.\n"
          ]
        }
      ]
    },
    {
      "cell_type": "markdown",
      "source": [
        "Question 9\n",
        "\n",
        "\n",
        "Write a program, which reads weights (lbs.) of N students into a list and convert these weights to \n",
        "kilograms in a separate list using Loop. N: No of students (Read input from user)\n"
      ],
      "metadata": {
        "id": "IF8uqK6zA7A1"
      }
    },
    {
      "cell_type": "code",
      "source": [
        "N = int(input(\"Enter the Number of Students : \")) # Taking the user input from the user and storing the number of values in the value N\n",
        "weight_in_lbs = [] # initializing the empty list weight_in_lbs which stores the weight in lbs\n",
        "weight_in_kgs = [] # initializing the empty list weight_in_kgs which stores the weight in kgs\n",
        "\n",
        "# running a for loop to take the N numbers of weights in lbs\n",
        "for i in range(0,N):\n",
        "  weight_in_lbs.append(float(input())) # Appending the weights in lbs to the weight_in_lbs list\n",
        "\n",
        "# running a for loop to convert weights in lbs to weight in kgs\n",
        "for weight in weight_in_lbs:\n",
        "  weight_in_kgs.append(round(weight*0.4535923,2)) # converting the weight in lbs to weights in kgs and appending it to the list weight_in_kgs\n",
        "\n",
        "print(\"The list after converting to kgs is : {}\".format(weight_in_kgs))  # printing the list of weights in kgs"
      ],
      "metadata": {
        "colab": {
          "base_uri": "https://localhost:8080/"
        },
        "id": "pD1gDWCZA9Bj",
        "outputId": "596ac19a-6f80-475b-cd50-bda77ce0b6ef"
      },
      "execution_count": null,
      "outputs": [
        {
          "output_type": "stream",
          "name": "stdout",
          "text": [
            "Enter the Number of Students : 4\n",
            "150\n",
            "155\n",
            "145\n",
            "148\n",
            "The list after converting to kgs is : [68.04, 70.31, 65.77, 67.13]\n"
          ]
        }
      ]
    },
    {
      "cell_type": "markdown",
      "source": [
        "Question 10"
      ],
      "metadata": {
        "id": "XMCUSs-WJZnl"
      }
    },
    {
      "cell_type": "markdown",
      "source": [
        "The diagram below shows a dataset with 2 classes and 8 data points, each with only one feature \n",
        "value, labeled f. Note that there are two data points with the same feature value of 6. These are \n",
        "shown as two x’s one above the other. Provide stepwise mathematical solution, do not write \n",
        "code for it.\n",
        "1. Divide this data equally into two parts. Use first part as training and second part as \n",
        "testing. Using KNN classifier, for K=3, what would be the predicted outputs for the test \n",
        "samples? Show how you arrived at your answer.\n",
        "2. Compute the confusion matrix for this and calculate accuracy, sensitivity and specificity \n",
        "values"
      ],
      "metadata": {
        "id": "lHdL8oekJb2L"
      }
    },
    {
      "cell_type": "markdown",
      "source": [
        "\n",
        "Solution\n",
        "As per the given data, let’s assume that 0 represents a dot and 1 represents a cross.\n",
        "So the data points would be (1, 0), (2, 1), (3, 1), (6, 1), (6, 1), (7, 0), (10, 0), (11, 0).\n",
        "By dividing the dataset into equal parts randomly we get, \n",
        "The training set to be (2, 1), (6, 1), (7, 0), (11, 0).\n",
        "The test set to be (1, 0), (3, 1), (6, 1), (10, 0).\n",
        "Now by calculating the distances of each test point from each of the train set, we would get the following table.\n",
        "Here we would consider 3 nearest points from the 4 training points and predict the y co-ordinate value of test data point with majority value in the y co-ordinate of the training points. \n",
        "As we see for the first test point, we have two 1’s and one 0 in the nearest 3 points of the training set, hence we predicted the y co-ordinate value of test point to be 1.\n",
        "Similarly for the second test point, we have two 1’s and one 0 in the nearest 3 points of the training set, hence we predicted the y co-ordinate value of test point to be 1.\n",
        "Similarly for the third test point, we have two 1’s and one 0 in the nearest 3 points of the training set, hence we predicted the y co-ordinate value of test point to be 1.\n",
        "Similarly for the fourth test point, we have two 0’s and one 1 in the nearest 3 points of the training set, hence we predicted the y co-ordinate value of test point to be 0.\n",
        "\n",
        "\n",
        "Train Set\n",
        "\n",
        "Test Set\n",
        "(2, 1)\t(6, 1)\t(7, 0)\t(11, 0)\tKNN classifier, for K=3\n",
        "(predicted output)\tActual Output\n",
        "(1, 0)\t1.414\t5.099\t6.0\t10\t1\t0\n",
        "(3, 1)\t1.0\t3.1\t5.099\t9.055\t1\t1\n",
        "(6, 1)\t4.0\t0.0\t1.414\t5.099\t1\t1\n",
        "(10, 0)\t8.06\t4.123\t3\t4\t0\t\t\t0\n",
        "\n",
        "( Note: The distances between the points is calculated by the Euclidean Formula \n",
        "The distance between the points (x1,y1) and (x2,y2) is distance = ((x1 - x2)^2 + (y1 - y2)^2)^0.5 )\n",
        " \n",
        "2. Compute the confusion matrix for this and calculate accuracy, sensitivity and specificity values\n",
        "Solution:\n",
        "                                   \n",
        "\n",
        "As per the above table, the confusion matrix is [1 1]\n",
        "    [0 2]\n",
        "\tTP = 2\n",
        "\tTN = 1\n",
        "\tFP = 1\n",
        "\tFN = 0\n",
        "Accuracy:\n",
        "Accuracy = (TP+TN)/(P+N) = ¾ = 0.75 %\n",
        "Sensitivity:\n",
        "Sensitivity = TP/(TP+FN) = TP/P = 2/(2+0) = 100 %\n",
        "Specificity:\n",
        "Specificity = TN/(FP+TN) = TN/N = 1/(2) = 50 %\n",
        "\n"
      ],
      "metadata": {
        "id": "Oc3jysWrJkmh"
      }
    }
  ]
}